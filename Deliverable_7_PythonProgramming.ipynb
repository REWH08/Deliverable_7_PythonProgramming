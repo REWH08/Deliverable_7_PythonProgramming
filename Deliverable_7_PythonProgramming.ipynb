{
  "nbformat": 4,
  "nbformat_minor": 0,
  "metadata": {
    "colab": {
      "provenance": []
    },
    "kernelspec": {
      "name": "python3",
      "display_name": "Python 3"
    },
    "language_info": {
      "name": "python"
    }
  },
  "cells": [
    {
      "cell_type": "code",
      "execution_count": 1,
      "metadata": {
        "id": "Pit6xOJrA0Dy"
      },
      "outputs": [],
      "source": [
        "import pandas as pd"
      ]
    },
    {
      "cell_type": "code",
      "source": [
        "n = int(input('Enter an non-negative integer number: '))\n",
        "\n",
        "if n < 0:\n",
        "  print('Enter an non-negative integer number please')"
      ],
      "metadata": {
        "colab": {
          "base_uri": "https://localhost:8080/"
        },
        "id": "gTDo6KAFA-M4",
        "outputId": "6395a879-0365-45ff-9572-fd97989de1b3"
      },
      "execution_count": 108,
      "outputs": [
        {
          "name": "stdout",
          "output_type": "stream",
          "text": [
            "Enter an non-negative integer number: 18\n"
          ]
        }
      ]
    },
    {
      "cell_type": "code",
      "source": [
        "even = []\n",
        "odd = []\n",
        "fibonacci = [0,1]\n",
        "\n",
        "for i in range(n):\n",
        "  even.append(2*i)\n",
        "  odd.append(2*i+1)\n",
        "  if i > 1: fibonacci.append(fibonacci[i-2]+fibonacci[i-1])"
      ],
      "metadata": {
        "id": "k8cyKG3NBBdt"
      },
      "execution_count": 109,
      "outputs": []
    },
    {
      "cell_type": "code",
      "source": [
        "even"
      ],
      "metadata": {
        "colab": {
          "base_uri": "https://localhost:8080/"
        },
        "id": "uX1DNmxhBE8B",
        "outputId": "27852aa3-a88f-406f-e7a7-c2b99c33255c"
      },
      "execution_count": 110,
      "outputs": [
        {
          "output_type": "execute_result",
          "data": {
            "text/plain": [
              "[0, 2, 4, 6, 8, 10, 12, 14, 16, 18, 20, 22, 24, 26, 28, 30, 32, 34]"
            ]
          },
          "metadata": {},
          "execution_count": 110
        }
      ]
    },
    {
      "cell_type": "code",
      "source": [
        "odd"
      ],
      "metadata": {
        "colab": {
          "base_uri": "https://localhost:8080/"
        },
        "id": "dQUTXA1aCdAv",
        "outputId": "e197c9ea-9913-4c8c-a499-8330abcec9f3"
      },
      "execution_count": 111,
      "outputs": [
        {
          "output_type": "execute_result",
          "data": {
            "text/plain": [
              "[1, 3, 5, 7, 9, 11, 13, 15, 17, 19, 21, 23, 25, 27, 29, 31, 33, 35]"
            ]
          },
          "metadata": {},
          "execution_count": 111
        }
      ]
    },
    {
      "cell_type": "code",
      "source": [
        "print(fibonacci)"
      ],
      "metadata": {
        "colab": {
          "base_uri": "https://localhost:8080/"
        },
        "id": "zF7BPmeJCf1r",
        "outputId": "b250e2aa-a2ce-4ee8-c081-b8e4f44207fb"
      },
      "execution_count": 112,
      "outputs": [
        {
          "output_type": "stream",
          "name": "stdout",
          "text": [
            "[0, 1, 1, 2, 3, 5, 8, 13, 21, 34, 55, 89, 144, 233, 377, 610, 987, 1597]\n"
          ]
        }
      ]
    },
    {
      "cell_type": "code",
      "source": [
        "len(even) == len(odd) == len(fibonacci)"
      ],
      "metadata": {
        "colab": {
          "base_uri": "https://localhost:8080/"
        },
        "id": "fjFXe-a4CyUQ",
        "outputId": "e40ae501-0559-40ce-9a2f-6f02b2c13f65"
      },
      "execution_count": 113,
      "outputs": [
        {
          "output_type": "execute_result",
          "data": {
            "text/plain": [
              "True"
            ]
          },
          "metadata": {},
          "execution_count": 113
        }
      ]
    },
    {
      "cell_type": "code",
      "source": [
        "df = pd.DataFrame({'Even': even,\n",
        "                   'Odd': odd,\n",
        "                   'fibonacci': fibonacci})\n",
        "pd.set_option('display.colheader_justify', 'center')\n",
        "print(df)"
      ],
      "metadata": {
        "colab": {
          "base_uri": "https://localhost:8080/"
        },
        "id": "geCAupd9DVA4",
        "outputId": "8fb7df70-5f43-4797-d327-ca92d343fd71"
      },
      "execution_count": 115,
      "outputs": [
        {
          "output_type": "stream",
          "name": "stdout",
          "text": [
            "    Even  Odd  fibonacci\n",
            "0     0    1        0   \n",
            "1     2    3        1   \n",
            "2     4    5        1   \n",
            "3     6    7        2   \n",
            "4     8    9        3   \n",
            "5    10   11        5   \n",
            "6    12   13        8   \n",
            "7    14   15       13   \n",
            "8    16   17       21   \n",
            "9    18   19       34   \n",
            "10   20   21       55   \n",
            "11   22   23       89   \n",
            "12   24   25      144   \n",
            "13   26   27      233   \n",
            "14   28   29      377   \n",
            "15   30   31      610   \n",
            "16   32   33      987   \n",
            "17   34   35     1597   \n"
          ]
        }
      ]
    }
  ]
}